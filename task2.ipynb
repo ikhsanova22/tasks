{
 "cells": [
  {
   "cell_type": "code",
   "execution_count": 26,
   "metadata": {},
   "outputs": [],
   "source": [
    "import numpy as np\n",
    "import pandas as pd\n",
    "import json as js"
   ]
  },
  {
   "cell_type": "code",
   "execution_count": 27,
   "metadata": {},
   "outputs": [
    {
     "data": {
      "text/html": [
       "<div>\n",
       "<style scoped>\n",
       "    .dataframe tbody tr th:only-of-type {\n",
       "        vertical-align: middle;\n",
       "    }\n",
       "\n",
       "    .dataframe tbody tr th {\n",
       "        vertical-align: top;\n",
       "    }\n",
       "\n",
       "    .dataframe thead th {\n",
       "        text-align: right;\n",
       "    }\n",
       "</style>\n",
       "<table border=\"1\" class=\"dataframe\">\n",
       "  <thead>\n",
       "    <tr style=\"text-align: right;\">\n",
       "      <th></th>\n",
       "      <th>id</th>\n",
       "      <th>original</th>\n",
       "      <th>on_created</th>\n",
       "      <th>doctor1_id</th>\n",
       "      <th>doctor1_mark</th>\n",
       "      <th>on_doctor1_created</th>\n",
       "      <th>on_doctor1_updated</th>\n",
       "      <th>doctor2_id</th>\n",
       "      <th>doctor2_mark</th>\n",
       "      <th>on_doctor2_created</th>\n",
       "      <th>on_doctor2_updated</th>\n",
       "      <th>doctor3_id</th>\n",
       "      <th>doctor3_mark</th>\n",
       "      <th>on_doctor3_created</th>\n",
       "      <th>on_doctor3_updated</th>\n",
       "    </tr>\n",
       "  </thead>\n",
       "  <tbody>\n",
       "    <tr>\n",
       "      <th>0</th>\n",
       "      <td>5155</td>\n",
       "      <td>{\"url\":\"/data/mask/1.png\",\"name\":\"1.png\"}</td>\n",
       "      <td>8/26/2019 12:00:33 PM</td>\n",
       "      <td>NaN</td>\n",
       "      <td>NaN</td>\n",
       "      <td>NaN</td>\n",
       "      <td>NaN</td>\n",
       "      <td>8.0</td>\n",
       "      <td>{\"marks\":[{\"symptom\":\"cardiomegaly\",\"x\":38.877...</td>\n",
       "      <td>8/26/2019 6:39:14 PM</td>\n",
       "      <td>8/26/2019 6:39:14 PM</td>\n",
       "      <td>NaN</td>\n",
       "      <td>NaN</td>\n",
       "      <td>NaN</td>\n",
       "      <td>NaN</td>\n",
       "    </tr>\n",
       "    <tr>\n",
       "      <th>1</th>\n",
       "      <td>5217</td>\n",
       "      <td>{\"url\":\"/data/mask/28.png\",\"name\":\"2.png\"}</td>\n",
       "      <td>8/26/2019 12:00:33 PM</td>\n",
       "      <td>7.0</td>\n",
       "      <td>{\"marks\":[{\"symptom\":\"cardiomegaly\",\"x\":26.352...</td>\n",
       "      <td>8/27/2019 6:15:24 PM</td>\n",
       "      <td>8/27/2019 6:15:24 PM</td>\n",
       "      <td>NaN</td>\n",
       "      <td>NaN</td>\n",
       "      <td>NaN</td>\n",
       "      <td>NaN</td>\n",
       "      <td>NaN</td>\n",
       "      <td>NaN</td>\n",
       "      <td>NaN</td>\n",
       "      <td>NaN</td>\n",
       "    </tr>\n",
       "    <tr>\n",
       "      <th>2</th>\n",
       "      <td>5299</td>\n",
       "      <td>{\"url\":\"/data/mask/3.png\",\"name\":\"3.png\"}</td>\n",
       "      <td>8/26/2019 12:00:33 PM</td>\n",
       "      <td>NaN</td>\n",
       "      <td>NaN</td>\n",
       "      <td>NaN</td>\n",
       "      <td>NaN</td>\n",
       "      <td>8.0</td>\n",
       "      <td>{\"marks\":[{\"symptom\":\"pneumonia\",\"x\":58.486706...</td>\n",
       "      <td>8/30/2019 9:22:05 PM</td>\n",
       "      <td>8/30/2019 9:22:05 PM</td>\n",
       "      <td>NaN</td>\n",
       "      <td>NaN</td>\n",
       "      <td>NaN</td>\n",
       "      <td>NaN</td>\n",
       "    </tr>\n",
       "  </tbody>\n",
       "</table>\n",
       "</div>"
      ],
      "text/plain": [
       "     id                                    original             on_created  \\\n",
       "0  5155   {\"url\":\"/data/mask/1.png\",\"name\":\"1.png\"}  8/26/2019 12:00:33 PM   \n",
       "1  5217  {\"url\":\"/data/mask/28.png\",\"name\":\"2.png\"}  8/26/2019 12:00:33 PM   \n",
       "2  5299   {\"url\":\"/data/mask/3.png\",\"name\":\"3.png\"}  8/26/2019 12:00:33 PM   \n",
       "\n",
       "   doctor1_id                                       doctor1_mark  \\\n",
       "0         NaN                                                NaN   \n",
       "1         7.0  {\"marks\":[{\"symptom\":\"cardiomegaly\",\"x\":26.352...   \n",
       "2         NaN                                                NaN   \n",
       "\n",
       "     on_doctor1_created    on_doctor1_updated  doctor2_id  \\\n",
       "0                   NaN                   NaN         8.0   \n",
       "1  8/27/2019 6:15:24 PM  8/27/2019 6:15:24 PM         NaN   \n",
       "2                   NaN                   NaN         8.0   \n",
       "\n",
       "                                        doctor2_mark    on_doctor2_created  \\\n",
       "0  {\"marks\":[{\"symptom\":\"cardiomegaly\",\"x\":38.877...  8/26/2019 6:39:14 PM   \n",
       "1                                                NaN                   NaN   \n",
       "2  {\"marks\":[{\"symptom\":\"pneumonia\",\"x\":58.486706...  8/30/2019 9:22:05 PM   \n",
       "\n",
       "     on_doctor2_updated  doctor3_id  doctor3_mark  on_doctor3_created  \\\n",
       "0  8/26/2019 6:39:14 PM         NaN           NaN                 NaN   \n",
       "1                   NaN         NaN           NaN                 NaN   \n",
       "2  8/30/2019 9:22:05 PM         NaN           NaN                 NaN   \n",
       "\n",
       "   on_doctor3_updated  \n",
       "0                 NaN  \n",
       "1                 NaN  \n",
       "2                 NaN  "
      ]
     },
     "execution_count": 27,
     "metadata": {},
     "output_type": "execute_result"
    }
   ],
   "source": [
    "doc_data = pd.read_csv(\"doctors.csv\")\n",
    "doc_data.head(10)"
   ]
  },
  {
   "cell_type": "code",
   "execution_count": 28,
   "metadata": {},
   "outputs": [
    {
     "data": {
      "text/html": [
       "<div>\n",
       "<style scoped>\n",
       "    .dataframe tbody tr th:only-of-type {\n",
       "        vertical-align: middle;\n",
       "    }\n",
       "\n",
       "    .dataframe tbody tr th {\n",
       "        vertical-align: top;\n",
       "    }\n",
       "\n",
       "    .dataframe thead th {\n",
       "        text-align: right;\n",
       "    }\n",
       "</style>\n",
       "<table border=\"1\" class=\"dataframe\">\n",
       "  <thead>\n",
       "    <tr style=\"text-align: right;\">\n",
       "      <th></th>\n",
       "      <th>Image Index</th>\n",
       "      <th>Finding Label</th>\n",
       "      <th>Bbox [x</th>\n",
       "      <th>y</th>\n",
       "      <th>w</th>\n",
       "      <th>h]</th>\n",
       "    </tr>\n",
       "  </thead>\n",
       "  <tbody>\n",
       "    <tr>\n",
       "      <th>0</th>\n",
       "      <td>1.png</td>\n",
       "      <td>Cardiomegaly</td>\n",
       "      <td>363.932203</td>\n",
       "      <td>470.002268</td>\n",
       "      <td>451.254237</td>\n",
       "      <td>271.186441</td>\n",
       "    </tr>\n",
       "    <tr>\n",
       "      <th>1</th>\n",
       "      <td>2.png</td>\n",
       "      <td>Cardiomegaly</td>\n",
       "      <td>251.394709</td>\n",
       "      <td>435.606349</td>\n",
       "      <td>497.371429</td>\n",
       "      <td>430.188360</td>\n",
       "    </tr>\n",
       "    <tr>\n",
       "      <th>2</th>\n",
       "      <td>3.png</td>\n",
       "      <td>Effusion</td>\n",
       "      <td>149.617778</td>\n",
       "      <td>728.500156</td>\n",
       "      <td>27.306667</td>\n",
       "      <td>65.991111</td>\n",
       "    </tr>\n",
       "  </tbody>\n",
       "</table>\n",
       "</div>"
      ],
      "text/plain": [
       "  Image Index Finding Label     Bbox [x           y           w          h]\n",
       "0       1.png  Cardiomegaly  363.932203  470.002268  451.254237  271.186441\n",
       "1       2.png  Cardiomegaly  251.394709  435.606349  497.371429  430.188360\n",
       "2       3.png      Effusion  149.617778  728.500156   27.306667   65.991111"
      ]
     },
     "execution_count": 28,
     "metadata": {},
     "output_type": "execute_result"
    }
   ],
   "source": [
    "examp_data = pd.read_csv(\"example.csv\")\n",
    "examp_data.head(10)"
   ]
  },
  {
   "cell_type": "code",
   "execution_count": 29,
   "metadata": {},
   "outputs": [
    {
     "data": {
      "text/html": [
       "<div>\n",
       "<style scoped>\n",
       "    .dataframe tbody tr th:only-of-type {\n",
       "        vertical-align: middle;\n",
       "    }\n",
       "\n",
       "    .dataframe tbody tr th {\n",
       "        vertical-align: top;\n",
       "    }\n",
       "\n",
       "    .dataframe thead th {\n",
       "        text-align: right;\n",
       "    }\n",
       "</style>\n",
       "<table border=\"1\" class=\"dataframe\">\n",
       "  <thead>\n",
       "    <tr style=\"text-align: right;\">\n",
       "      <th></th>\n",
       "      <th>id</th>\n",
       "      <th>original</th>\n",
       "      <th>on_created</th>\n",
       "      <th>doctor1_id</th>\n",
       "      <th>doctor1_mark</th>\n",
       "      <th>on_doctor1_created</th>\n",
       "      <th>on_doctor1_updated</th>\n",
       "      <th>doctor2_id</th>\n",
       "      <th>doctor2_mark</th>\n",
       "      <th>on_doctor2_created</th>\n",
       "      <th>on_doctor2_updated</th>\n",
       "    </tr>\n",
       "  </thead>\n",
       "  <tbody>\n",
       "    <tr>\n",
       "      <th>0</th>\n",
       "      <td>5155</td>\n",
       "      <td>{\"url\":\"/data/mask/1.png\",\"name\":\"1.png\"}</td>\n",
       "      <td>8/26/2019 12:00:33 PM</td>\n",
       "      <td>NaN</td>\n",
       "      <td>NaN</td>\n",
       "      <td>NaN</td>\n",
       "      <td>NaN</td>\n",
       "      <td>8.0</td>\n",
       "      <td>{\"marks\":[{\"symptom\":\"cardiomegaly\",\"x\":38.877...</td>\n",
       "      <td>8/26/2019 6:39:14 PM</td>\n",
       "      <td>8/26/2019 6:39:14 PM</td>\n",
       "    </tr>\n",
       "    <tr>\n",
       "      <th>1</th>\n",
       "      <td>5217</td>\n",
       "      <td>{\"url\":\"/data/mask/28.png\",\"name\":\"2.png\"}</td>\n",
       "      <td>8/26/2019 12:00:33 PM</td>\n",
       "      <td>7.0</td>\n",
       "      <td>{\"marks\":[{\"symptom\":\"cardiomegaly\",\"x\":26.352...</td>\n",
       "      <td>8/27/2019 6:15:24 PM</td>\n",
       "      <td>8/27/2019 6:15:24 PM</td>\n",
       "      <td>NaN</td>\n",
       "      <td>NaN</td>\n",
       "      <td>NaN</td>\n",
       "      <td>NaN</td>\n",
       "    </tr>\n",
       "    <tr>\n",
       "      <th>2</th>\n",
       "      <td>5299</td>\n",
       "      <td>{\"url\":\"/data/mask/3.png\",\"name\":\"3.png\"}</td>\n",
       "      <td>8/26/2019 12:00:33 PM</td>\n",
       "      <td>NaN</td>\n",
       "      <td>NaN</td>\n",
       "      <td>NaN</td>\n",
       "      <td>NaN</td>\n",
       "      <td>8.0</td>\n",
       "      <td>{\"marks\":[{\"symptom\":\"pneumonia\",\"x\":58.486706...</td>\n",
       "      <td>8/30/2019 9:22:05 PM</td>\n",
       "      <td>8/30/2019 9:22:05 PM</td>\n",
       "    </tr>\n",
       "  </tbody>\n",
       "</table>\n",
       "</div>"
      ],
      "text/plain": [
       "     id                                    original             on_created  \\\n",
       "0  5155   {\"url\":\"/data/mask/1.png\",\"name\":\"1.png\"}  8/26/2019 12:00:33 PM   \n",
       "1  5217  {\"url\":\"/data/mask/28.png\",\"name\":\"2.png\"}  8/26/2019 12:00:33 PM   \n",
       "2  5299   {\"url\":\"/data/mask/3.png\",\"name\":\"3.png\"}  8/26/2019 12:00:33 PM   \n",
       "\n",
       "   doctor1_id                                       doctor1_mark  \\\n",
       "0         NaN                                                NaN   \n",
       "1         7.0  {\"marks\":[{\"symptom\":\"cardiomegaly\",\"x\":26.352...   \n",
       "2         NaN                                                NaN   \n",
       "\n",
       "     on_doctor1_created    on_doctor1_updated  doctor2_id  \\\n",
       "0                   NaN                   NaN         8.0   \n",
       "1  8/27/2019 6:15:24 PM  8/27/2019 6:15:24 PM         NaN   \n",
       "2                   NaN                   NaN         8.0   \n",
       "\n",
       "                                        doctor2_mark    on_doctor2_created  \\\n",
       "0  {\"marks\":[{\"symptom\":\"cardiomegaly\",\"x\":38.877...  8/26/2019 6:39:14 PM   \n",
       "1                                                NaN                   NaN   \n",
       "2  {\"marks\":[{\"symptom\":\"pneumonia\",\"x\":58.486706...  8/30/2019 9:22:05 PM   \n",
       "\n",
       "     on_doctor2_updated  \n",
       "0  8/26/2019 6:39:14 PM  \n",
       "1                   NaN  \n",
       "2  8/30/2019 9:22:05 PM  "
      ]
     },
     "execution_count": 29,
     "metadata": {},
     "output_type": "execute_result"
    }
   ],
   "source": [
    "doc_data.drop([\"doctor3_id\",\"doctor3_mark\",\"on_doctor3_created\",\"on_doctor3_updated\"], axis=1)"
   ]
  },
  {
   "cell_type": "code",
   "execution_count": 30,
   "metadata": {},
   "outputs": [],
   "source": [
    "x1 = js.loads(doc_data.loc[0][\"doctor2_mark\"])\n",
    "x2 = js.loads(doc_data.loc[1][\"doctor1_mark\"])\n",
    "x3 = js.loads(doc_data.loc[2][\"doctor2_mark\"])\n",
    "first_mark = x1[\"marks\"]\n",
    "second_mark = x2[\"marks\"]\n",
    "third_mark = x3[\"marks\"]"
   ]
  },
  {
   "cell_type": "code",
   "execution_count": 91,
   "metadata": {},
   "outputs": [
    {
     "data": {
      "text/plain": [
       "[{'symptom': 'pneumonia',\n",
       "  'x': 58.486706,\n",
       "  'y': 38.24131,\n",
       "  'width': 15.235174,\n",
       "  'height': 17.177914},\n",
       " {'symptom': 'effusion',\n",
       "  'x': 73.41513,\n",
       "  'y': 55.521473,\n",
       "  'width': 3.1697342,\n",
       "  'height': 6.8507156},\n",
       " {'symptom': 'effusion',\n",
       "  'x': 14.621676,\n",
       "  'y': 69.93865,\n",
       "  'width': 2.3517382,\n",
       "  'height': 5.725971},\n",
       " {'symptom': 'mass',\n",
       "  'x': 23.92638,\n",
       "  'y': 53.271984,\n",
       "  'width': 4.396728,\n",
       "  'height': 4.805726},\n",
       " {'symptom': 'pneumonia',\n",
       "  'x': 21.267893,\n",
       "  'y': 39.059303,\n",
       "  'width': 14.417178,\n",
       "  'height': 24.23313},\n",
       " {'symptom': 'cardiomegaly',\n",
       "  'x': 27.91411,\n",
       "  'y': 49.693253,\n",
       "  'width': 46.31902,\n",
       "  'height': 18.09816}]"
      ]
     },
     "execution_count": 91,
     "metadata": {},
     "output_type": "execute_result"
    }
   ],
   "source": [
    "third_mark"
   ]
  },
  {
   "cell_type": "code",
   "execution_count": 57,
   "metadata": {},
   "outputs": [],
   "source": [
    "list_percents = []\n",
    "def percents_add(mark, k):\n",
    "    for i in mark:\n",
    "        list_percents.append(i['x']/examp_data.loc[k][\"Bbox [x\"])\n",
    "        list_percents.append(i['y']/examp_data.loc[k][\"y\"])\n",
    "        list_percents.append(i['width']/examp_data.loc[k][\"w\"])\n",
    "        list_percents.append(i['height']/examp_data.loc[k][\"h]\"])\n",
    "\n",
    "percents_add(first_mark,0)\n",
    "percents_add(second_mark,1)\n",
    "percents_add(third_mark,2)\n"
   ]
  },
  {
   "cell_type": "code",
   "execution_count": 59,
   "metadata": {},
   "outputs": [
    {
     "name": "stdout",
     "output_type": "stream",
     "text": [
      "0.15295294366894363\n"
     ]
    }
   ],
   "source": [
    "sum_per = 0\n",
    "for i in list_percents:\n",
    "    sum_per += i\n",
    "avg_per = sum_per/len(list_percents)\n",
    "\n",
    "print(avg_per)"
   ]
  },
  {
   "cell_type": "code",
   "execution_count": 60,
   "metadata": {},
   "outputs": [],
   "source": [
    "class Point:\n",
    "    def __init__(self,x,y):\n",
    "        \"\"\" Create a new point at the origin \"\"\"\n",
    "        self.x = x\n",
    "        self.y = y"
   ]
  },
  {
   "cell_type": "code",
   "execution_count": 118,
   "metadata": {},
   "outputs": [],
   "source": [
    "class Rectangle:\n",
    "    def __init__(self, posn, w, h):\n",
    "        self.corner = posn\n",
    "        self.width = w\n",
    "        self.height = h\n",
    "    def __str__(self):\n",
    "        return  \"({0}, {1}, {2})\".format(self.corner, self.width, self.height)\n",
    "    def getright(self):\n",
    "        return self.corner.x+self.width\n",
    "    def getleft(self):\n",
    "        return self.corner.x\n",
    "    def gettop(self):\n",
    "        return self.corner.y-self.height\n",
    "    def getbottom(self):\n",
    "        return self.corner.y\n",
    "    def getArea():\n",
    "        return self.width*self.height"
   ]
  },
  {
   "cell_type": "code",
   "execution_count": 72,
   "metadata": {},
   "outputs": [],
   "source": [
    "def issymptom(mark, k):\n",
    "    for i in mark:\n",
    "        if i['symptom'] == examp_data.loc[k]['Finding Label']:\n",
    "            rect1 = Rectangle(Point(i['x'],i['y']),i['width'], i['height'])\n",
    "        else:\n",
    "            print(\"Symptom is not found\")\n",
    "    return rect1"
   ]
  },
  {
   "cell_type": "code",
   "execution_count": 109,
   "metadata": {},
   "outputs": [],
   "source": [
    "def interarea(r1, r2):\n",
    "    x = min(r1.getright(), r2.getright()) - max(r1.getleft(), r2.getleft())\n",
    "    y = min(r1.getbottom(), r2.getbottom()) - max(r1.gettop(), r2.gettop())\n",
    "    return x*y\n",
    "\n",
    "def iou(union, inter):\n",
    "    return inter/union"
   ]
  },
  {
   "cell_type": "code",
   "execution_count": 110,
   "metadata": {},
   "outputs": [],
   "source": [
    "rectan1 = Rectangle(Point(first_mark[0]['x']/avg_per,first_mark[0]['y']/avg_per), first_mark[0]['width']/avg_per,first_mark[0]['height']/avg_per)\n",
    "rectan2 = Rectangle(Point(second_mark[0]['x']/avg_per,second_mark[0]['y']/avg_per), second_mark[0]['width']/avg_per,second_mark[0]['height']/avg_per)\n",
    "rectan3 = Rectangle(Point(third_mark[1]['x']/avg_per,third_mark[1]['y']/avg_per), third_mark[1]['width']/avg_per,third_mark[1]['height']/avg_per)\n",
    "rectan4 = Rectangle(Point(third_mark[2]['x']/avg_per,third_mark[2]['y']/avg_per), third_mark[2]['width']/avg_per,third_mark[2]['height']/avg_per)"
   ]
  },
  {
   "cell_type": "code",
   "execution_count": 111,
   "metadata": {},
   "outputs": [],
   "source": [
    "exmp1 = Rectangle(Point(examp_data.loc[0][\"Bbox [x\"], examp_data.loc[0][\"y\"]), examp_data.loc[0][\"w\"], examp_data.loc[0][\"h]\"])\n",
    "exmp2 = Rectangle(Point(examp_data.loc[1][\"Bbox [x\"], examp_data.loc[1][\"y\"]), examp_data.loc[1][\"w\"], examp_data.loc[1][\"h]\"])\n",
    "exmp3 = Rectangle(Point(examp_data.loc[2][\"Bbox [x\"], examp_data.loc[2][\"y\"]), examp_data.loc[2][\"w\"], examp_data.loc[2][\"h]\"])"
   ]
  },
  {
   "cell_type": "code",
   "execution_count": 131,
   "metadata": {},
   "outputs": [
    {
     "name": "stdout",
     "output_type": "stream",
     "text": [
      "0.11114519704005592\n"
     ]
    }
   ],
   "source": [
    "iou1 = iou(((rectan1.getArea()+exmp1.getArea())-interarea(rectan1, exmp1)), interarea(rectan1, exmp1))\n",
    "print(iou1)"
   ]
  },
  {
   "cell_type": "code",
   "execution_count": 132,
   "metadata": {},
   "outputs": [
    {
     "name": "stdout",
     "output_type": "stream",
     "text": [
      "0.1988684668830634\n"
     ]
    }
   ],
   "source": [
    "iou2 = iou(((rectan2.getArea()+exmp2.getArea())-interarea(rectan2, exmp2)), interarea(rectan2, exmp2))\n",
    "print(iou2)"
   ]
  },
  {
   "cell_type": "code",
   "execution_count": 136,
   "metadata": {},
   "outputs": [
    {
     "name": "stdout",
     "output_type": "stream",
     "text": [
      "1.0310108816781796\n"
     ]
    }
   ],
   "source": [
    "iou3 = iou(((rectan3.getArea()+exmp3.getArea())-interarea(rectan3, exmp3)), interarea(rectan3, exmp3))\n",
    "print(abs(iou3))"
   ]
  },
  {
   "cell_type": "code",
   "execution_count": 139,
   "metadata": {},
   "outputs": [
    {
     "name": "stdout",
     "output_type": "stream",
     "text": [
      "1.4280360105638903\n"
     ]
    }
   ],
   "source": [
    "iou4 = iou(((rectan4.getArea()+exmp3.getArea())-interarea(rectan4, exmp3)), interarea(rectan4, exmp3))\n",
    "print(abs(iou4))"
   ]
  },
  {
   "cell_type": "code",
   "execution_count": null,
   "metadata": {},
   "outputs": [],
   "source": []
  }
 ],
 "metadata": {
  "kernelspec": {
   "display_name": "Python 3",
   "language": "python",
   "name": "python3"
  },
  "language_info": {
   "codemirror_mode": {
    "name": "ipython",
    "version": 3
   },
   "file_extension": ".py",
   "mimetype": "text/x-python",
   "name": "python",
   "nbconvert_exporter": "python",
   "pygments_lexer": "ipython3",
   "version": "3.6.1"
  }
 },
 "nbformat": 4,
 "nbformat_minor": 2
}
